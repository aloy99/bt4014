{
 "cells": [
  {
   "cell_type": "markdown",
   "metadata": {},
   "source": [
    "# LinUCB Disjoint"
   ]
  },
  {
   "cell_type": "code",
   "execution_count": 111,
   "metadata": {},
   "outputs": [],
   "source": [
    "import numpy as np\n",
    "import matplotlib.pyplot as plt"
   ]
  },
  {
   "cell_type": "code",
   "execution_count": 112,
   "metadata": {},
   "outputs": [],
   "source": [
    "import pandas as pd"
   ]
  },
  {
   "cell_type": "code",
   "execution_count": 113,
   "metadata": {},
   "outputs": [],
   "source": [
    "def process_data(path):\n",
    "    df = pd.read_csv(path)\n",
    "    df = pd.get_dummies(df, columns = [f'user_feature_{i}' for i in range(4)])\n",
    "    #df = df[df.columns.drop(list(df.filter(regex='affinity')))]\n",
    "    d = len(df.filter(regex = \"feature\").columns) + len(df.filter(regex = \"affinity\").columns)\n",
    "    print(f'Number of features = {d}')\n",
    "    print(f'Number of arms = {max(df[\"item_id\"]) + 1}')\n",
    "\n",
    "    return df, d, max(df[\"item_id\"] + 1)\n"
   ]
  },
  {
   "cell_type": "code",
   "execution_count": 114,
   "metadata": {},
   "outputs": [],
   "source": [
    "# Create class object for a single linear ucb disjoint arm\n",
    "class linucb_disjoint_arm():\n",
    "    \n",
    "    def __init__(self, arm_index, d, alpha):\n",
    "        \n",
    "        # Track arm index\n",
    "        self.arm_index = arm_index\n",
    "        \n",
    "        # Keep track of alpha\n",
    "        self.alpha = alpha\n",
    "        \n",
    "        # A: (d x d) matrix = D_a.T * D_a + I_d. \n",
    "        # The inverse of A is used in ridge regression \n",
    "        self.A = np.identity(d)\n",
    "        \n",
    "        # b: (d x 1) corresponding response vector. \n",
    "        # Equals to D_a.T * c_a in ridge regression formulation\n",
    "        self.b = np.zeros([d,1])\n",
    "        \n",
    "    def calc_UCB(self, x_array):\n",
    "        # Find A inverse for ridge regression\n",
    "        A_inv = np.linalg.inv(self.A)\n",
    "        \n",
    "        # Perform ridge regression to obtain estimate of covariate coefficients theta\n",
    "        # theta is (d x 1) dimension vector\n",
    "        self.theta = np.dot(A_inv, self.b)\n",
    "        \n",
    "        # Reshape covariates input into (d x 1) shape vector\n",
    "        x = x_array.reshape([-1,1])\n",
    "        \n",
    "        # Find ucb based on p formulation (mean + std_dev) \n",
    "        # p is (1 x 1) dimension vector\n",
    "        p = np.dot(self.theta.T,x) +  self.alpha * np.sqrt(np.dot(x.T, np.dot(A_inv,x)))\n",
    "        \n",
    "        return p\n",
    "    \n",
    "    def reward_update(self, reward, x_array):\n",
    "        # Reshape covariates input into (d x 1) shape vector\n",
    "        x = x_array.reshape([-1,1])\n",
    "        \n",
    "        # Update A which is (d * d) matrix.\n",
    "        self.A += np.dot(x, x.T)\n",
    "        \n",
    "        # Update b which is (d x 1) vector\n",
    "        # reward is scalar\n",
    "        self.b += reward * x "
   ]
  },
  {
   "cell_type": "code",
   "execution_count": 115,
   "metadata": {},
   "outputs": [],
   "source": [
    "class linucb_policy():\n",
    "    \n",
    "    def __init__(self, K_arms, d, alpha):\n",
    "        self.K_arms = K_arms\n",
    "        self.linucb_arms = [linucb_disjoint_arm(arm_index = i, d = d, alpha = alpha) for i in range(K_arms)]\n",
    "\n",
    "\n",
    "    def topk_by_partition(self, array, k, axis=None, ascending=True):\n",
    "        if not ascending:\n",
    "            array *= -1\n",
    "        ind = np.argpartition(array, k, axis=axis)\n",
    "        ind = np.take(ind, np.arange(k), axis=axis) # k non-sorted indices\n",
    "        array = np.take_along_axis(array, ind, axis=axis) # k non-sorted values\n",
    "\n",
    "        # sort within k elements\n",
    "        ind_part = np.argsort(array, axis=axis)\n",
    "        ind = np.take_along_axis(ind, ind_part, axis=axis)\n",
    "        if not ascending:\n",
    "            input *= -1\n",
    "        val = np.take_along_axis(array, ind_part, axis=axis) \n",
    "        return ind, val\n",
    "        \n",
    "    def select_arm(self, x_array, n_top=3):\n",
    "        \"\"\"\n",
    "        Select the top n arms based on UCB values.\n",
    "        \n",
    "        Args:\n",
    "            x_array: Input features\n",
    "            n_top: Number of top arms to return (default=3)\n",
    "        \n",
    "        Returns:\n",
    "            list: Top n arms indices\n",
    "            list: Corresponding UCB values\n",
    "        \"\"\"\n",
    "        # Calculate UCB for all arms\n",
    "        ucb_values = []\n",
    "        for arm_index in range(self.K_arms):\n",
    "            arm_ucb = self.linucb_arms[arm_index].calc_UCB(x_array)\n",
    "            ucb_values.append((arm_index, arm_ucb))\n",
    "\n",
    "        top_arms, top_ucb_values = self.topk_by_partition(x_array, n_top)\n",
    "        \n",
    "        return top_arms, top_ucb_values"
   ]
  },
  {
   "cell_type": "code",
   "execution_count": 116,
   "metadata": {},
   "outputs": [],
   "source": [
    "def ctr_simulator(K_arms, d, alpha, df):\n",
    "    # Initiate policy\n",
    "    linucb_policy_object = linucb_policy(K_arms = K_arms, d = d, alpha = alpha)\n",
    "    \n",
    "    # Instantiate trackers\n",
    "    aligned_time_steps = 0\n",
    "    cumulative_rewards = 0\n",
    "    aligned_ctr = []\n",
    "    unaligned_ctr = [] # for unaligned time steps\n",
    "    \n",
    "    for idx, row in df.iterrows():\n",
    "\n",
    "        # 1st column: Logged data arm. \n",
    "        # Integer data type\n",
    "        data_arm = row['item_id']\n",
    "\n",
    "        # 2nd column: Logged data reward for logged chosen arm\n",
    "        # Float data type\n",
    "        data_reward = row['click']\n",
    "\n",
    "        # 3rd columns onwards: 100 covariates. Keep in array of dimensions (100,) with float data type\n",
    "        #covariate_string_list = row[[f'user-item_affinity_{i}' for i in range(1,80)]]\n",
    "        covariate_string_list = np.concatenate((row.filter(regex = \"feature\").to_numpy(), row.filter(regex = \"affinity\").to_numpy()), axis = 0)\n",
    "        data_x_array = np.array([float(covariate_elem) for covariate_elem in covariate_string_list])\n",
    "\n",
    "        # Find policy's chosen arm based on input covariates at current time step\n",
    "        arms, _ = linucb_policy_object.select_arm(data_x_array)\n",
    "\n",
    "        # Check if arm_index is the same as data_arm (ie same actions were chosen)\n",
    "        # Note that data_arms index range from 1 to 10 while policy arms index range from 0 to 9.\n",
    "\n",
    "        if data_arm in arms:\n",
    "\n",
    "            # Use reward information for the chosen arm to update\n",
    "            linucb_policy_object.linucb_arms[data_arm-1].reward_update(data_reward, data_x_array)\n",
    "\n",
    "            # For CTR calculation\n",
    "            aligned_time_steps += 1\n",
    "            cumulative_rewards += data_reward\n",
    "            aligned_ctr.append(cumulative_rewards/aligned_time_steps)\n",
    "                    \n",
    "    return (aligned_time_steps, cumulative_rewards, aligned_ctr, linucb_policy_object)"
   ]
  },
  {
   "cell_type": "code",
   "execution_count": 104,
   "metadata": {},
   "outputs": [
    {
     "name": "stdout",
     "output_type": "stream",
     "text": [
      "Number of features = 65\n",
      "Number of arms = 34\n"
     ]
    }
   ],
   "source": [
    "alpha_input = 1.5\n",
    "data_path = \"obd/bts/men/men.csv\"\n",
    "df = process_data(data_path)"
   ]
  },
  {
   "cell_type": "code",
   "execution_count": null,
   "metadata": {},
   "outputs": [
    {
     "name": "stdout",
     "output_type": "stream",
     "text": [
      "266 ms ± 9.28 ms per loop (mean ± std. dev. of 7 runs, 1 loop each)\n"
     ]
    }
   ],
   "source": [
    "randlist = pd.DataFrame(index=np.random.randint(10000, size=10000))\n",
    "df.merge(randlist, left_index=True, right_index=True, how='right')"
   ]
  },
  {
   "cell_type": "code",
   "execution_count": 109,
   "metadata": {},
   "outputs": [
    {
     "name": "stdout",
     "output_type": "stream",
     "text": [
      "Number of features = 65\n",
      "Number of arms = 34\n"
     ]
    },
    {
     "ename": "KeyboardInterrupt",
     "evalue": "",
     "output_type": "error",
     "traceback": [
      "\u001b[1;31m---------------------------------------------------------------------------\u001b[0m",
      "\u001b[1;31mKeyboardInterrupt\u001b[0m                         Traceback (most recent call last)",
      "Cell \u001b[1;32mIn[109], line 8\u001b[0m\n\u001b[0;32m      6\u001b[0m randlist \u001b[38;5;241m=\u001b[39m pd\u001b[38;5;241m.\u001b[39mDataFrame(index\u001b[38;5;241m=\u001b[39mnp\u001b[38;5;241m.\u001b[39mrandom\u001b[38;5;241m.\u001b[39mrandint(\u001b[38;5;241m10000\u001b[39m, size\u001b[38;5;241m=\u001b[39m\u001b[38;5;241m10000\u001b[39m))\n\u001b[0;32m      7\u001b[0m df_temp \u001b[38;5;241m=\u001b[39m df\u001b[38;5;241m.\u001b[39mmerge(randlist, left_index\u001b[38;5;241m=\u001b[39m\u001b[38;5;28;01mTrue\u001b[39;00m, right_index\u001b[38;5;241m=\u001b[39m\u001b[38;5;28;01mTrue\u001b[39;00m, how\u001b[38;5;241m=\u001b[39m\u001b[38;5;124m'\u001b[39m\u001b[38;5;124mright\u001b[39m\u001b[38;5;124m'\u001b[39m)\n\u001b[1;32m----> 8\u001b[0m aligned_time_steps, cum_rewards, aligned_ctr, policy \u001b[38;5;241m=\u001b[39m \u001b[43mctr_simulator\u001b[49m\u001b[43m(\u001b[49m\u001b[43mK_arms\u001b[49m\u001b[43m \u001b[49m\u001b[38;5;241;43m=\u001b[39;49m\u001b[43m \u001b[49m\u001b[43mK_arms\u001b[49m\u001b[43m,\u001b[49m\u001b[43m \u001b[49m\u001b[43md\u001b[49m\u001b[43m \u001b[49m\u001b[38;5;241;43m=\u001b[39;49m\u001b[43m \u001b[49m\u001b[43md\u001b[49m\u001b[43m,\u001b[49m\u001b[43m \u001b[49m\u001b[43malpha\u001b[49m\u001b[43m \u001b[49m\u001b[38;5;241;43m=\u001b[39;49m\u001b[43m \u001b[49m\u001b[43malpha_input\u001b[49m\u001b[43m,\u001b[49m\u001b[43m \u001b[49m\u001b[43mdf\u001b[49m\u001b[43m \u001b[49m\u001b[38;5;241;43m=\u001b[39;49m\u001b[43m \u001b[49m\u001b[43mdf_temp\u001b[49m\u001b[43m)\u001b[49m\n\u001b[0;32m      9\u001b[0m aligned_ctrs\u001b[38;5;241m.\u001b[39mappend(aligned_ctr)\n",
      "Cell \u001b[1;32mIn[100], line 27\u001b[0m, in \u001b[0;36mctr_simulator\u001b[1;34m(K_arms, d, alpha, df)\u001b[0m\n\u001b[0;32m     24\u001b[0m data_x_array \u001b[38;5;241m=\u001b[39m np\u001b[38;5;241m.\u001b[39marray([\u001b[38;5;28mfloat\u001b[39m(covariate_elem) \u001b[38;5;28;01mfor\u001b[39;00m covariate_elem \u001b[38;5;129;01min\u001b[39;00m covariate_string_list])\n\u001b[0;32m     26\u001b[0m \u001b[38;5;66;03m# Find policy's chosen arm based on input covariates at current time step\u001b[39;00m\n\u001b[1;32m---> 27\u001b[0m arms, _ \u001b[38;5;241m=\u001b[39m \u001b[43mlinucb_policy_object\u001b[49m\u001b[38;5;241;43m.\u001b[39;49m\u001b[43mselect_arm\u001b[49m\u001b[43m(\u001b[49m\u001b[43mdata_x_array\u001b[49m\u001b[43m)\u001b[49m\n\u001b[0;32m     29\u001b[0m \u001b[38;5;66;03m# Check if arm_index is the same as data_arm (ie same actions were chosen)\u001b[39;00m\n\u001b[0;32m     30\u001b[0m \u001b[38;5;66;03m# Note that data_arms index range from 1 to 10 while policy arms index range from 0 to 9.\u001b[39;00m\n\u001b[0;32m     32\u001b[0m \u001b[38;5;28;01mif\u001b[39;00m data_arm \u001b[38;5;129;01min\u001b[39;00m arms:\n\u001b[0;32m     33\u001b[0m \n\u001b[0;32m     34\u001b[0m     \u001b[38;5;66;03m# Use reward information for the chosen arm to update\u001b[39;00m\n",
      "Cell \u001b[1;32mIn[36], line 38\u001b[0m, in \u001b[0;36mlinucb_policy.select_arm\u001b[1;34m(self, x_array, n_top)\u001b[0m\n\u001b[0;32m     36\u001b[0m ucb_values \u001b[38;5;241m=\u001b[39m []\n\u001b[0;32m     37\u001b[0m \u001b[38;5;28;01mfor\u001b[39;00m arm_index \u001b[38;5;129;01min\u001b[39;00m \u001b[38;5;28mrange\u001b[39m(\u001b[38;5;28mself\u001b[39m\u001b[38;5;241m.\u001b[39mK_arms):\n\u001b[1;32m---> 38\u001b[0m     arm_ucb \u001b[38;5;241m=\u001b[39m \u001b[38;5;28;43mself\u001b[39;49m\u001b[38;5;241;43m.\u001b[39;49m\u001b[43mlinucb_arms\u001b[49m\u001b[43m[\u001b[49m\u001b[43marm_index\u001b[49m\u001b[43m]\u001b[49m\u001b[38;5;241;43m.\u001b[39;49m\u001b[43mcalc_UCB\u001b[49m\u001b[43m(\u001b[49m\u001b[43mx_array\u001b[49m\u001b[43m)\u001b[49m\n\u001b[0;32m     39\u001b[0m     ucb_values\u001b[38;5;241m.\u001b[39mappend((arm_index, arm_ucb))\n\u001b[0;32m     41\u001b[0m top_arms, top_ucb_values \u001b[38;5;241m=\u001b[39m \u001b[38;5;28mself\u001b[39m\u001b[38;5;241m.\u001b[39mtopk_by_partition(x_array, n_top)\n",
      "Cell \u001b[1;32mIn[4], line 22\u001b[0m, in \u001b[0;36mlinucb_disjoint_arm.calc_UCB\u001b[1;34m(self, x_array)\u001b[0m\n\u001b[0;32m     20\u001b[0m \u001b[38;5;28;01mdef\u001b[39;00m \u001b[38;5;21mcalc_UCB\u001b[39m(\u001b[38;5;28mself\u001b[39m, x_array):\n\u001b[0;32m     21\u001b[0m     \u001b[38;5;66;03m# Find A inverse for ridge regression\u001b[39;00m\n\u001b[1;32m---> 22\u001b[0m     A_inv \u001b[38;5;241m=\u001b[39m \u001b[43mnp\u001b[49m\u001b[38;5;241;43m.\u001b[39;49m\u001b[43mlinalg\u001b[49m\u001b[38;5;241;43m.\u001b[39;49m\u001b[43minv\u001b[49m\u001b[43m(\u001b[49m\u001b[38;5;28;43mself\u001b[39;49m\u001b[38;5;241;43m.\u001b[39;49m\u001b[43mA\u001b[49m\u001b[43m)\u001b[49m\n\u001b[0;32m     24\u001b[0m     \u001b[38;5;66;03m# Perform ridge regression to obtain estimate of covariate coefficients theta\u001b[39;00m\n\u001b[0;32m     25\u001b[0m     \u001b[38;5;66;03m# theta is (d x 1) dimension vector\u001b[39;00m\n\u001b[0;32m     26\u001b[0m     \u001b[38;5;28mself\u001b[39m\u001b[38;5;241m.\u001b[39mtheta \u001b[38;5;241m=\u001b[39m np\u001b[38;5;241m.\u001b[39mdot(A_inv, \u001b[38;5;28mself\u001b[39m\u001b[38;5;241m.\u001b[39mb)\n",
      "File \u001b[1;32mc:\\Users\\aloy\\AppData\\Local\\Programs\\Python\\Python310\\lib\\site-packages\\numpy\\linalg\\linalg.py:561\u001b[0m, in \u001b[0;36minv\u001b[1;34m(a)\u001b[0m\n\u001b[0;32m    559\u001b[0m signature \u001b[38;5;241m=\u001b[39m \u001b[38;5;124m'\u001b[39m\u001b[38;5;124mD->D\u001b[39m\u001b[38;5;124m'\u001b[39m \u001b[38;5;28;01mif\u001b[39;00m isComplexType(t) \u001b[38;5;28;01melse\u001b[39;00m \u001b[38;5;124m'\u001b[39m\u001b[38;5;124md->d\u001b[39m\u001b[38;5;124m'\u001b[39m\n\u001b[0;32m    560\u001b[0m extobj \u001b[38;5;241m=\u001b[39m get_linalg_error_extobj(_raise_linalgerror_singular)\n\u001b[1;32m--> 561\u001b[0m ainv \u001b[38;5;241m=\u001b[39m \u001b[43m_umath_linalg\u001b[49m\u001b[38;5;241;43m.\u001b[39;49m\u001b[43minv\u001b[49m\u001b[43m(\u001b[49m\u001b[43ma\u001b[49m\u001b[43m,\u001b[49m\u001b[43m \u001b[49m\u001b[43msignature\u001b[49m\u001b[38;5;241;43m=\u001b[39;49m\u001b[43msignature\u001b[49m\u001b[43m,\u001b[49m\u001b[43m \u001b[49m\u001b[43mextobj\u001b[49m\u001b[38;5;241;43m=\u001b[39;49m\u001b[43mextobj\u001b[49m\u001b[43m)\u001b[49m\n\u001b[0;32m    562\u001b[0m \u001b[38;5;28;01mreturn\u001b[39;00m wrap(ainv\u001b[38;5;241m.\u001b[39mastype(result_t, copy\u001b[38;5;241m=\u001b[39m\u001b[38;5;28;01mFalse\u001b[39;00m))\n",
      "\u001b[1;31mKeyboardInterrupt\u001b[0m: "
     ]
    }
   ],
   "source": [
    "alpha_input = 1.5\n",
    "data_path = \"obd/bts/men/men.csv\"\n",
    "df, d, K_arms = process_data(data_path)\n",
    "aligned_ctrs = []\n",
    "for i in range(100):\n",
    "    randlist = pd.DataFrame(index=np.random.randint(10000, size=10000))\n",
    "    df_temp = df.merge(randlist, left_index=True, right_index=True, how='right')\n",
    "    aligned_time_steps, cum_rewards, aligned_ctr, policy = ctr_simulator(K_arms = K_arms, d = d, alpha = alpha_input, df = df_temp)\n",
    "    aligned_ctrs.append(aligned_ctr)\n"
   ]
  },
  {
   "cell_type": "code",
   "execution_count": 110,
   "metadata": {},
   "outputs": [
    {
     "data": {
      "text/plain": [
       "[[], [], [], [], [], [], [], [], [], [], [], [], [], [], [], []]"
      ]
     },
     "execution_count": 110,
     "metadata": {},
     "output_type": "execute_result"
    },
    {
     "name": "stdout",
     "output_type": "stream",
     "text": [
      "The history saving thread hit an unexpected error (OperationalError('database or disk is full')).History will not be written to the database.\n"
     ]
    }
   ],
   "source": [
    "aligned_ctrs"
   ]
  },
  {
   "cell_type": "code",
   "execution_count": 89,
   "metadata": {},
   "outputs": [
    {
     "data": {
      "text/plain": [
       "Text(0.5, 1.0, 'alpha = 1.5')"
      ]
     },
     "execution_count": 89,
     "metadata": {},
     "output_type": "execute_result"
    },
    {
     "data": {
      "image/png": "[encoded data removed]",
      "text/plain": [
       "<Figure size 640x480 with 1 Axes>"
      ]
     },
     "metadata": {},
     "output_type": "display_data"
    }
   ],
   "source": [
    "plt.plot(aligned_ctr)\n",
    "plt.title(\"alpha = \" + str(alpha_input))"
   ]
  },
  {
   "cell_type": "code",
   "execution_count": 67,
   "metadata": {},
   "outputs": [
    {
     "data": {
      "text/plain": [
       "Text(0.5, 1.0, 'alpha = 1.5')"
      ]
     },
     "execution_count": 67,
     "metadata": {},
     "output_type": "execute_result"
    },
    {
     "data": {
      "image/png": "[encoded data removed]",
      "text/plain": [
       "<Figure size 640x480 with 1 Axes>"
      ]
     },
     "metadata": {},
     "output_type": "display_data"
    }
   ],
   "source": [
    "plt.plot(aligned_ctr)\n",
    "plt.title(\"alpha = \" + str(alpha_input))"
   ]
  },
  {
   "cell_type": "code",
   "execution_count": 8,
   "metadata": {},
   "outputs": [
    {
     "data": {
      "text/plain": [
       "Text(0.5, 1.0, 'alpha = 1.0')"
      ]
     },
     "execution_count": 8,
     "metadata": {},
     "output_type": "execute_result"
    },
    {
     "data": {
      "image/png": "[encoded data removed]",
      "text/plain": [
       "<Figure size 432x288 with 1 Axes>"
      ]
     },
     "metadata": {
      "needs_background": "light"
     },
     "output_type": "display_data"
    }
   ],
   "source": [
    "alpha_input = 1.0\n",
    "data_path = \"../data/news_dataset.txt\"\n",
    "aligned_time_steps, cum_rewards, aligned_ctr, policy = ctr_simulator(K_arms = 10, d = 100, alpha = alpha_input, data_path = data_path)\n",
    "\n",
    "plt.plot(aligned_ctr)\n",
    "plt.title(\"alpha = \"+str(alpha_input))"
   ]
  },
  {
   "cell_type": "code",
   "execution_count": 9,
   "metadata": {},
   "outputs": [
    {
     "data": {
      "text/plain": [
       "Text(0.5, 1.0, 'alpha = 0.5')"
      ]
     },
     "execution_count": 9,
     "metadata": {},
     "output_type": "execute_result"
    },
    {
     "data": {
      "image/png": "[encoded data removed]",
      "text/plain": [
       "<Figure size 432x288 with 1 Axes>"
      ]
     },
     "metadata": {
      "needs_background": "light"
     },
     "output_type": "display_data"
    }
   ],
   "source": [
    "alpha_input = 0.5\n",
    "data_path = \"../data/news_dataset.txt\"\n",
    "aligned_time_steps, cum_rewards, aligned_ctr, policy = ctr_simulator(K_arms = 10, d = 100, alpha = alpha_input, data_path = data_path)\n",
    "\n",
    "plt.plot(aligned_ctr)\n",
    "plt.title(\"alpha = \"+str(alpha_input))"
   ]
  },
  {
   "cell_type": "code",
   "execution_count": null,
   "metadata": {},
   "outputs": [],
   "source": []
  }
 ],
 "metadata": {
  "kernelspec": {
   "display_name": "Python 3",
   "language": "python",
   "name": "python3"
  },
  "language_info": {
   "codemirror_mode": {
    "name": "ipython",
    "version": 3
   },
   "file_extension": ".py",
   "mimetype": "text/x-python",
   "name": "python",
   "nbconvert_exporter": "python",
   "pygments_lexer": "ipython3",
   "version": "3.9.11"
  }
 },
 "nbformat": 4,
 "nbformat_minor": 4
}
